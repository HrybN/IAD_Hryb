{
 "cells": [
  {
   "cell_type": "code",
   "execution_count": 3,
   "id": "e9df83e0-50f9-404f-973d-82622dcdb2b5",
   "metadata": {},
   "outputs": [
    {
     "name": "stdin",
     "output_type": "stream",
     "text": [
      "Введіть список чисел через пробіл:  7 3 1 7 4 2 8 2\n"
     ]
    },
    {
     "name": "stdout",
     "output_type": "stream",
     "text": [
      "Було виконано 14 переставлень\n"
     ]
    }
   ],
   "source": [
    "def bubble_sort(arr):\n",
    "    arr = list(map(int, arr.split()))\n",
    "    n = len(arr)\n",
    "    swaps = 0\n",
    "    \n",
    "    for i in range(n):\n",
    "        swapped = False\n",
    "        for j in range(0, n-i-1):\n",
    "            if arr[j] > arr[j+1]:\n",
    "                arr[j], arr[j+1] = arr[j+1], arr[j]\n",
    "                swaps += 1\n",
    "                swapped = True\n",
    "        if not swapped:\n",
    "            break \n",
    "            \n",
    "    return swaps\n",
    "\n",
    "def task_4():\n",
    "    arr = input(\"Введіть список чисел через пробіл: \")\n",
    "    swaps = bubble_sort(arr)\n",
    "    print(f\"Було виконано {swaps} переставлень\")\n",
    "\n",
    "\n",
    "task_4()  # Введіть список чисел через пробіл: 5 6 23 8 12 5\n"
   ]
  },
  {
   "cell_type": "code",
   "execution_count": null,
   "id": "ab130b7e-5f6d-42e2-b993-8006f453ad0d",
   "metadata": {},
   "outputs": [],
   "source": []
  }
 ],
 "metadata": {
  "kernelspec": {
   "display_name": "Python 3 (ipykernel)",
   "language": "python",
   "name": "python3"
  },
  "language_info": {
   "codemirror_mode": {
    "name": "ipython",
    "version": 3
   },
   "file_extension": ".py",
   "mimetype": "text/x-python",
   "name": "python",
   "nbconvert_exporter": "python",
   "pygments_lexer": "ipython3",
   "version": "3.11.9"
  }
 },
 "nbformat": 4,
 "nbformat_minor": 5
}
